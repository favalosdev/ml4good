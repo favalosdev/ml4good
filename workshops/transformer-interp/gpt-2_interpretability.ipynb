{
  "cells": [
    {
      "cell_type": "markdown",
      "metadata": {
        "id": "rcxdkt2qE6mn"
      },
      "source": [
        "# GPT-2 interpretability"
      ]
    },
    {
      "cell_type": "markdown",
      "metadata": {
        "id": "D5ZjQo89E6mq"
      },
      "source": [
        "<a href=\"https://colab.research.google.com/github/EffiSciencesResearch/ML4G/blob/main/days/w1d6/gpt-2_interpretability.ipynb\" target=\"_parent\"><img src=\"https://colab.research.google.com/assets/colab-badge.svg\" alt=\"Open In Colab\"/></a>"
      ]
    },
    {
      "cell_type": "markdown",
      "metadata": {
        "id": "v3j1zYbHE6mr"
      },
      "source": [
        "## Logit lens\n",
        "\n",
        "### First step: understanding Logit lens\n",
        "\n",
        "Read: https://www.lesswrong.com/posts/AcKRB8wDpdaN6v6ru/interpreting-gpt-the-logit-lens\n",
        "\n",
        "### Second step: Reproducing the results\n",
        "\n",
        "Reimplement the Logit lens in a minimal way by reproducing the figure at the end of this section.\n",
        "This exercice is quite unguided because being able to use the transformer library autonomously is very important.\n",
        "\n",
        "Resources if you are stuck:\n",
        "- Read about hooks here https://pytorch.org/tutorials/beginner/former_torchies/nnft_tutorial.html#forward-and-backward-function-hooks\n",
        "- pip install transformer-utils and use the function _plot_logit_lens https://github.dev/nostalgebraist/transformer-utils/tree/main/src/transformer_utils/logit_lens\n",
        "\n",
        "\n",
        "You should optain this figure:\n",
        "\n",
        "![](https://github.com/EffiSciencesResearch/ML4G/blob/main/days/w1d6/results.png?raw=1)"
      ]
    },
    {
      "cell_type": "code",
      "execution_count": 10,
      "metadata": {
        "id": "I7-hddPtE6mr"
      },
      "outputs": [],
      "source": [
        "!pip install transformers transformer_utils jaxtyping einops typeguard==2.13.3 -q"
      ]
    },
    {
      "cell_type": "code",
      "execution_count": 11,
      "metadata": {
        "id": "Cy6VgNUW_J4f"
      },
      "outputs": [],
      "source": [
        "from functools import partial\n",
        "\n",
        "import einops\n",
        "import torch\n",
        "import transformers\n",
        "from jaxtyping import Float, Int, jaxtyped\n",
        "from torch import Tensor\n",
        "from transformer_utils.logit_lens.plotting import _plot_logit_lens\n",
        "from typeguard import typechecked"
      ]
    },
    {
      "cell_type": "markdown",
      "metadata": {
        "id": "IgG0ugD__J4f"
      },
      "source": [
        "Hints:\n",
        "- GPT-2 has tied embeddings, so the embedding and unembedding matrices are the same. You can access them with `model.base_model.wte.weight`\n",
        "- Do not forget to apply the final LayerNorm to normalise the residual stream before applying the softmax. You can access it with `model.base_model.ln_f`"
      ]
    },
    {
      "cell_type": "code",
      "execution_count": 12,
      "metadata": {
        "id": "L2woQwVAE6ms",
        "outputId": "6a5a137d-2265-4dbd-efca-5b19e8eb2a91",
        "colab": {
          "base_uri": "https://localhost:8080/"
        }
      },
      "outputs": [
        {
          "output_type": "stream",
          "name": "stdout",
          "text": [
            "GPT2LMHeadModel(\n",
            "  (transformer): GPT2Model(\n",
            "    (wte): Embedding(50257, 768)\n",
            "    (wpe): Embedding(1024, 768)\n",
            "    (drop): Dropout(p=0.1, inplace=False)\n",
            "    (h): ModuleList(\n",
            "      (0-11): 12 x GPT2Block(\n",
            "        (ln_1): LayerNorm((768,), eps=1e-05, elementwise_affine=True)\n",
            "        (attn): GPT2SdpaAttention(\n",
            "          (c_attn): Conv1D()\n",
            "          (c_proj): Conv1D()\n",
            "          (attn_dropout): Dropout(p=0.1, inplace=False)\n",
            "          (resid_dropout): Dropout(p=0.1, inplace=False)\n",
            "        )\n",
            "        (ln_2): LayerNorm((768,), eps=1e-05, elementwise_affine=True)\n",
            "        (mlp): GPT2MLP(\n",
            "          (c_fc): Conv1D()\n",
            "          (c_proj): Conv1D()\n",
            "          (act): NewGELUActivation()\n",
            "          (dropout): Dropout(p=0.1, inplace=False)\n",
            "        )\n",
            "      )\n",
            "    )\n",
            "    (ln_f): LayerNorm((768,), eps=1e-05, elementwise_affine=True)\n",
            "  )\n",
            "  (lm_head): Linear(in_features=768, out_features=50257, bias=False)\n",
            ")\n"
          ]
        }
      ],
      "source": [
        "# Loading GPT2 and its tokenizer\n",
        "gpt2 = transformers.AutoModelForCausalLM.from_pretrained('gpt2')\n",
        "gpt2_tokenizer = transformers.AutoTokenizer.from_pretrained(\"gpt2\")\n",
        "gpt2.eval()\n",
        "\n",
        "# Looking at the model to see the name of the different layers\n",
        "print(gpt2)"
      ]
    },
    {
      "cell_type": "code",
      "source": [
        "def gather_activations(self, input, output):\n",
        "    normalised = gpt2.base_model.ln_f(output.data)\n",
        "    raw_outputs.append(normalised)"
      ],
      "metadata": {
        "id": "1qMnL9oTOd9J"
      },
      "execution_count": 104,
      "outputs": []
    },
    {
      "cell_type": "code",
      "source": [
        "layers = gpt2.transformer.h\n",
        "handles = []\n",
        "\n",
        "for layer in layers:\n",
        "    handle = layer.mlp.register_forward_hook(gather_activations)\n",
        "    handles.append(handle)"
      ],
      "metadata": {
        "id": "yP6CAdg1PsqW"
      },
      "execution_count": 105,
      "outputs": []
    },
    {
      "cell_type": "code",
      "execution_count": 106,
      "metadata": {
        "id": "AJMYtDkq_J4g",
        "outputId": "38fdfb8e-2cfd-4d90-ec46-d4b9c0d7223b",
        "colab": {
          "base_uri": "https://localhost:8080/"
        }
      },
      "outputs": [
        {
          "output_type": "stream",
          "name": "stderr",
          "text": [
            "<ipython-input-106-337d8bd67d20>:3: UserWarning: As of jaxtyping version 0.2.24, jaxtyping now prefers the syntax\n",
            "```\n",
            "from jaxtyping import jaxtyped\n",
            "# Use your favourite typechecker: usually one of the two lines below.\n",
            "from typeguard import typechecked as typechecker\n",
            "from beartype import beartype as typechecker\n",
            "\n",
            "@jaxtyped(typechecker=typechecker)\n",
            "def foo(...):\n",
            "```\n",
            "and the old double-decorator syntax\n",
            "```\n",
            "@jaxtyped\n",
            "@typechecker\n",
            "def foo(...):\n",
            "```\n",
            "should no longer be used. (It will continue to work as it did before, but the new approach will produce more readable error messages.)\n",
            "In particular note that `typechecker` must be passed via keyword argument; the following is not valid:\n",
            "```\n",
            "@jaxtyped(typechecker)\n",
            "def foo(...):\n",
            "```\n",
            "\n",
            "  def plot_logit_lens(\n"
          ]
        }
      ],
      "source": [
        "@jaxtyped\n",
        "@typechecked\n",
        "def plot_logit_lens(\n",
        "    per_layer_logits: Float[Tensor, \"layer nb_tokens vocab=50257\"],\n",
        "    per_layer_token_to_show: Int[Tensor, \"layer nb_tokens\"],\n",
        "    input_ids: Int[Tensor, \"batch=1 nb_tokens\"],\n",
        "    tokenizer=gpt2_tokenizer,\n",
        "):\n",
        "    _plot_logit_lens(\n",
        "        per_layer_logits.detach(),\n",
        "        per_layer_token_to_show.detach(),\n",
        "        per_layer_logits.softmax(dim=-1).detach(),\n",
        "        tokenizer,\n",
        "        # Hack: add the end-of-text token to avoid crash in _plot_logit_lens\n",
        "        input_ids=torch.cat([input_ids, torch.tensor([[50256]])], dim=1),\n",
        "        # input_ids=input_ids,\n",
        "        start_ix=0,\n",
        "        layer_names=None,\n",
        "        probs=True,\n",
        "    )"
      ]
    },
    {
      "cell_type": "code",
      "execution_count": 107,
      "metadata": {
        "id": "8vpV7Fjs_J4h"
      },
      "outputs": [],
      "source": [
        "prompt = \"Happy birthday to you, happy birthday to\"\n",
        "\n",
        "# Implement logit lens\n",
        "\n",
        "\n",
        "inputs = gpt2_tokenizer(prompt, return_tensors='pt')\n",
        "outputs = gpt2(**inputs)"
      ]
    },
    {
      "cell_type": "code",
      "source": [
        "inter_results = torch.cat(raw_outputs, dim=0)\n",
        "u = gpt2.base_model.wte.weight.T\n",
        "per_layer_logits = einops.einsum(inter_results, u, 'layers nb_tokens d_model, d_model vocab -> layers nb_tokens vocab')\n",
        "per_layer_token_to_show = torch.argmax(torch.nn.functional.softmax(per_layer_logits, dim=-1), dim=-1)\n",
        "input_ids = inputs['input_ids']\n",
        "\n",
        "plot_logit_lens(\n",
        "    per_layer_logits,\n",
        "    per_layer_token_to_show,\n",
        "    input_ids,\n",
        ")"
      ],
      "metadata": {
        "id": "ieXBZAa6kRQQ",
        "outputId": "27a9d394-940c-4a98-a04a-65cdf2897c68",
        "colab": {
          "base_uri": "https://localhost:8080/",
          "height": 500
        }
      },
      "execution_count": 108,
      "outputs": [
        {
          "output_type": "stream",
          "name": "stderr",
          "text": [
            "/usr/local/lib/python3.10/dist-packages/IPython/core/events.py:89: UserWarning: Glyph 12365 (\\N{HIRAGANA LETTER KI}) missing from current font.\n",
            "  func(*args, **kwargs)\n",
            "/usr/local/lib/python3.10/dist-packages/IPython/core/pylabtools.py:151: UserWarning: Glyph 12365 (\\N{HIRAGANA LETTER KI}) missing from current font.\n",
            "  fig.canvas.print_figure(bytes_io, **kw)\n"
          ]
        },
        {
          "output_type": "display_data",
          "data": {
            "text/plain": [
              "<Figure size 1200x450 with 3 Axes>"
            ],
            "image/png": "[encoded data removed]"
          },
          "metadata": {}
        }
      ]
    },
    {
      "cell_type": "code",
      "source": [
        "# Clean the mess\n",
        "for handle in handles:\n",
        "    handle.remove()\n",
        "\n",
        "raw_outputs = []"
      ],
      "metadata": {
        "id": "P3H_QxUUdWyW"
      },
      "execution_count": 103,
      "outputs": []
    },
    {
      "cell_type": "markdown",
      "metadata": {
        "id": "WwQ6Ygkw_J4h"
      },
      "source": [
        "<details>\n",
        "  <summary>Hint: steps</summary>\n",
        "\n",
        "```python\n",
        "# 1. Define a hook that stores the output of the layer\n",
        "# 2. Add the hook to each layer, use partial to pass the layer index\n",
        "# 3. Run the model on the input, then remove the hooks\n",
        "# 4. For each layer\n",
        "# 4.1. Normalize the output using the final layer norm\n",
        "# 4.2. Compute the word distribution using the word embeddings\n",
        "# 4.3. Find the most likely token\n",
        "```\n",
        "</details>\n",
        "\n",
        "<details>\n",
        "  <summary>Click to see the solution</summary>\n",
        "\n",
        "```python\n",
        "n_layers_gpt = len(gpt2.base_model.h)\n",
        "outputs = [None] * n_layers_gpt\n",
        "\n",
        "input_ids = gpt2_tokenizer.encode(prompt, return_tensors=\"pt\")\n",
        "\n",
        "# 1. Define a hook that stores the output of the layer\n",
        "def memorize_output_layer_hook(self, input, output, layer):\n",
        "    # Remark: the `global` keyword is not necessary, because we are modifying\n",
        "    # the content of a list. `global` would have been necessary if we were\n",
        "    # overwriting the list (i.e. outputs = ...)\n",
        "    outputs[layer] = output[0].detach()\n",
        "\n",
        "\n",
        "# 2. Add the hook to each layer, use partial to pass the layer index\n",
        "handles = [\n",
        "    gpt_block.register_forward_hook(partial(memorize_output_layer_hook, layer=layer))\n",
        "    for layer, gpt_block in enumerate(gpt2.base_model.h)\n",
        "]\n",
        "\n",
        "# 3. Run the model on the input, then remove the hooks\n",
        "try:\n",
        "    with torch.no_grad():\n",
        "        gpt2(input_ids)\n",
        "finally:\n",
        "    for handle in handles:\n",
        "        handle.remove()\n",
        "\n",
        "\n",
        "last_layer_norm = gpt2.base_model.ln_f\n",
        "word_embeddings = gpt2.base_model.wte.weight\n",
        "\n",
        "# 4. For each layer\n",
        "# 4.1. Normalize the output using the final layer norm\n",
        "# 4.2. Compute the word distribution using the word embeddings\n",
        "# 4.3. Find the most likely token\n",
        "\n",
        "per_layer_token_to_show = []\n",
        "per_layer_logits = []\n",
        "\n",
        "for layer, output in enumerate(outputs):\n",
        "    normalized_output = last_layer_norm(output)\n",
        "\n",
        "    word_distribution = einops.einsum(\n",
        "        normalized_output, word_embeddings,\n",
        "        \"batch token d_model, vocab d_model -> token vocab\"\n",
        "    )\n",
        "    best_token = torch.argmax(word_distribution, dim=-1)\n",
        "    output_text = gpt2_tokenizer.decode(best_token)\n",
        "    print(output_text)\n",
        "    \n",
        "    per_layer_token_to_show.append(best_token)\n",
        "    per_layer_logits.append(word_distribution)\n",
        "    \n",
        "\n",
        "per_layer_logits = torch.stack(per_layer_logits)\n",
        "per_layer_token_to_show = torch.stack(per_layer_token_to_show)\n",
        "```\n",
        "</details>"
      ]
    },
    {
      "cell_type": "markdown",
      "metadata": {
        "id": "xLAbUztFPNQk"
      },
      "source": [
        "## Probing\n",
        "\n",
        "Look at this youtube video to introduce you to probing: https://www.youtube.com/watch?v=HJn-OTNLnoE\n",
        "\n",
        "We will use the fetch_20newsgroups dataset, and we will classify the news according to which journal they come from.\n",
        "We will try to implement a small probe and analyse each layer of GPT-2. Which layer contains most of the information we are insterested with?\n",
        "\n",
        "Questions:\n",
        "- What is your strategy to use the internal states of gpt-2 as features for classification?\n",
        "- Propose 2 other strategies that won't work.\n",
        "- Try to predict the score of each layer at classifying the fetch_20newsgroups dataset.\n",
        "- Implement and check your prediction.\n",
        "\n",
        "Bonu read this: https://arxiv.org/pdf/1704.01444.pdf\n",
        "\n"
      ]
    },
    {
      "cell_type": "code",
      "execution_count": null,
      "metadata": {
        "id": "-Pko-7oBXtA9"
      },
      "outputs": [],
      "source": [
        "from sklearn.datasets import fetch_20newsgroups\n",
        "\n",
        "categories = ['alt.atheism', 'soc.religion.christian',\n",
        "              'comp.graphics', 'sci.med']\n",
        "\n",
        "twenty_train = fetch_20newsgroups(subset='train',\n",
        "    categories=categories, shuffle=True, random_state=42)"
      ]
    },
    {
      "cell_type": "code",
      "execution_count": null,
      "metadata": {
        "colab": {
          "base_uri": "https://localhost:8080/"
        },
        "id": "fyOkSITPYQXt",
        "outputId": "442694cc-1d5c-4b1e-d4c7-230428a2ccee"
      },
      "outputs": [
        {
          "name": "stdout",
          "output_type": "stream",
          "text": [
            "From: sd345@city.ac.uk (Michael Collier)\n",
            "Subject: Converting images to HP LaserJet III?\n",
            "Nntp-Posting-Host: hampton\n",
            "Organization: The City University\n",
            "Lines: 14\n",
            "\n",
            "Does anyone know of a good way (standard PC application/PD utility) to\n",
            "convert tif/img/tga files into LaserJet III format.  We would also like to\n",
            "do the same, converting to HPGL (HP plotter) files.\n",
            "\n",
            "Please email any response.\n",
            "\n",
            "Is this the correct group?\n",
            "\n",
            "Thanks in advance.  Michael.\n",
            "-- \n",
            "Michael Collier (Programmer)                 The Computer Unit,\n",
            "Email: M.P.Collier@uk.ac.city                The City University,\n",
            "Tel: 071 477-8000 x3769                      London,\n",
            "Fax: 071 477-8565                            EC1V 0HB.\n",
            "\n"
          ]
        }
      ],
      "source": [
        "print(twenty_train.data[0])"
      ]
    },
    {
      "cell_type": "code",
      "execution_count": null,
      "metadata": {
        "colab": {
          "base_uri": "https://localhost:8080/"
        },
        "id": "W8Gm8z7dYa6l",
        "outputId": "72caf53a-8e4b-4223-9a13-558359be4626"
      },
      "outputs": [
        {
          "data": {
            "text/plain": [
              "1"
            ]
          },
          "execution_count": 9,
          "metadata": {},
          "output_type": "execute_result"
        }
      ],
      "source": [
        "twenty_train.target[0]"
      ]
    },
    {
      "cell_type": "code",
      "execution_count": null,
      "metadata": {
        "colab": {
          "base_uri": "https://localhost:8080/",
          "height": 35
        },
        "id": "eOUsp96zZFK0",
        "outputId": "1e986348-bc0d-40b7-d42e-0246abde419a"
      },
      "outputs": [
        {
          "data": {
            "application/vnd.google.colaboratory.intrinsic+json": {
              "type": "string"
            },
            "text/plain": [
              "'comp.graphics'"
            ]
          },
          "execution_count": 10,
          "metadata": {},
          "output_type": "execute_result"
        }
      ],
      "source": [
        "twenty_train.target_names[twenty_train.target[0]]"
      ]
    },
    {
      "cell_type": "code",
      "execution_count": null,
      "metadata": {
        "colab": {
          "base_uri": "https://localhost:8080/"
        },
        "id": "1NlgDIA8ZT5e",
        "outputId": "4a45ef32-d10e-4f3f-b040-3d69f954cfef"
      },
      "outputs": [
        {
          "data": {
            "text/plain": [
              "2257"
            ]
          },
          "execution_count": 11,
          "metadata": {},
          "output_type": "execute_result"
        }
      ],
      "source": [
        "len(twenty_train.target)"
      ]
    },
    {
      "cell_type": "markdown",
      "metadata": {
        "id": "rSrtT-2afHIt"
      },
      "source": [
        "https://huggingface.co/docs/transformers/main_classes/output#transformers.modeling_outputs.CausalLMOutputWithCrossAttentions"
      ]
    },
    {
      "cell_type": "code",
      "execution_count": null,
      "metadata": {
        "id": "uHhTAaeeadH_"
      },
      "outputs": [],
      "source": [
        "import numpy as np\n",
        "import torch\n",
        "from tqdm.auto import tqdm\n",
        "\n",
        "torch.cuda.empty_cache()\n",
        "embed_dim = 768\n",
        "n_layers = 12\n",
        "N = len(twenty_train.data)\n",
        "\n",
        "# We only take the last token\n",
        "# If you do not put everything in a single array, the memory explodes\n",
        "hidden_states = np.zeros((N, n_layers, embed_dim))\n",
        "device = torch.device(\"cuda\" if torch.cuda.is_available() else \"cpu\")\n",
        "\n",
        "activations = np.zeros((N, n_layers, embed_dim))\n",
        "\n",
        "gpt2 = gpt2.to(device)\n",
        "gpt2.eval()\n",
        "\n",
        "\n",
        "# Fill hidden_states\n",
        "...\n"
      ]
    },
    {
      "cell_type": "code",
      "execution_count": null,
      "metadata": {
        "id": "B8r-6CuoN8P9"
      },
      "outputs": [],
      "source": [
        "np.save(\"hidden_states\", hidden_states)\n",
        "hidden_states.shape"
      ]
    },
    {
      "cell_type": "code",
      "execution_count": null,
      "metadata": {
        "id": "_4ajufYiWD52"
      },
      "outputs": [],
      "source": [
        "# If you do not have a gpu, use this line.\n",
        "# hidden_states = np.load(\"hidden_states.npy\")"
      ]
    },
    {
      "cell_type": "code",
      "execution_count": null,
      "metadata": {
        "id": "yqCv_-BT5T5_"
      },
      "outputs": [],
      "source": [
        "# Check the documentation of sklearn and use those imports to score each layer\n",
        "from sklearn.linear_model import LogisticRegression\n",
        "from sklearn.model_selection import train_test_split\n",
        "from sklearn.pipeline import make_pipeline\n",
        "from sklearn.preprocessing import StandardScaler\n",
        "\n",
        "scores = []\n",
        "for layer in range(n_layers):\n",
        "    ...\n"
      ]
    },
    {
      "cell_type": "code",
      "execution_count": null,
      "metadata": {
        "id": "cdYcn_BpQocQ"
      },
      "outputs": [],
      "source": [
        "import matplotlib.pyplot as plt\n",
        "plt.plot(list(range(len(scores))), scores)"
      ]
    },
    {
      "cell_type": "markdown",
      "metadata": {
        "id": "eJxcA9K_UWHK"
      },
      "source": [
        "# Activation Atlas"
      ]
    },
    {
      "cell_type": "markdown",
      "metadata": {
        "id": "dg9gsQPeUf_G"
      },
      "source": [
        "With out dataset we can also try to minimally reproduce the activation atlas paper:\n",
        "https://openai.com/blog/introducing-activation-atlases/\n",
        "\n",
        "\n",
        "Questions:\n",
        "- How to implement dimensionality reduction?\n",
        "- Install umap-learn.\n",
        "- Visualize the umap of the best previously selected layer. Comment.\n",
        "\n",
        "Bonus: Plot the sentences alongside the point in the UMAP plot. Chack that everything makes sense."
      ]
    },
    {
      "cell_type": "code",
      "execution_count": null,
      "metadata": {
        "id": "Hkaea_ROUzcI"
      },
      "outputs": [],
      "source": [
        "!pip install umap-learn -q"
      ]
    },
    {
      "cell_type": "code",
      "execution_count": null,
      "metadata": {
        "id": "ZLPRmRMtUV5G"
      },
      "outputs": [],
      "source": [
        "import numpy as np\n",
        "import matplotlib.pyplot as plt\n",
        "%matplotlib inline\n",
        "\n",
        "# Dimension reduction and clustering library\n",
        "import umap as umap"
      ]
    },
    {
      "cell_type": "code",
      "execution_count": null,
      "metadata": {
        "colab": {
          "base_uri": "https://localhost:8080/",
          "height": 265
        },
        "id": "fqIxsTh5UUoN",
        "outputId": "f3663697-5db9-4b46-9b57-82f9a454cb13"
      },
      "outputs": [
        {
          "data": {
            "image/png": "[encoded data removed]",
            "text/plain": [
              "<Figure size 432x288 with 1 Axes>"
            ]
          },
          "metadata": {
            "needs_background": "light"
          },
          "output_type": "display_data"
        }
      ],
      "source": [
        "# Choose the best_layer\n",
        "best_layer = ...\n",
        "X = hidden_states[:, best_layer, :]\n",
        "y = twenty_train.target\n",
        "\n",
        "standard_embedding = umap.UMAP(random_state=42).fit_transform(X_train)\n",
        "plt.scatter(standard_embedding[:, 0], standard_embedding[:, 1], c=y.astype(int), s=0.1, cmap='Spectral');"
      ]
    },
    {
      "cell_type": "code",
      "execution_count": null,
      "metadata": {
        "id": "ekRmlnsmSRgu"
      },
      "outputs": [],
      "source": []
    }
  ],
  "metadata": {
    "colab": {
      "name": "Copy of Copie de logit_lens.ipynb",
      "provenance": []
    },
    "interpreter": {
      "hash": "5674577cfcb2919e9e23d4354f1a722805a54cfb33364ecebfeb18b6bf3b4ab2"
    },
    "kernelspec": {
      "display_name": "Python 3",
      "name": "python3"
    },
    "language_info": {
      "codemirror_mode": {
        "name": "ipython",
        "version": 3
      },
      "file_extension": ".py",
      "mimetype": "text/x-python",
      "name": "python",
      "nbconvert_exporter": "python",
      "pygments_lexer": "ipython3",
      "version": "3.11.5"
    },
    "orig_nbformat": 4
  },
  "nbformat": 4,
  "nbformat_minor": 0
}